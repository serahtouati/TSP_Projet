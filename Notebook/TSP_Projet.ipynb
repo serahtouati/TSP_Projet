{
  "nbformat": 4,
  "nbformat_minor": 0,
  "metadata": {
    "colab": {
      "provenance": [],
      "include_colab_link": true
    },
    "kernelspec": {
      "name": "python3",
      "display_name": "Python 3"
    },
    "language_info": {
      "name": "python"
    }
  },
  "cells": [
    {
      "cell_type": "markdown",
      "metadata": {
        "id": "view-in-github",
        "colab_type": "text"
      },
      "source": [
        "<a href=\"https://colab.research.google.com/github/serahtouati/TSP_Projet/blob/main/Notebook/TSP_Projet.ipynb\" target=\"_parent\"><img src=\"https://colab.research.google.com/assets/colab-badge.svg\" alt=\"Open In Colab\"/></a>"
      ]
    },
    {
      "cell_type": "code",
      "execution_count": null,
      "metadata": {
        "id": "6uCRLed5q1SJ"
      },
      "outputs": [],
      "source": []
    },
    {
      "cell_type": "markdown",
      "source": [
        "# I. Génération des villes et calcul des distances\n"
      ],
      "metadata": {
        "id": "I9nXl7uRccu3"
      }
    },
    {
      "cell_type": "markdown",
      "source": [
        "## 1. Importation du fichier csv contenant les villes"
      ],
      "metadata": {
        "id": "8rRFpYS0cuPt"
      }
    },
    {
      "cell_type": "code",
      "source": [
        "import pandas as pd\n",
        "\n",
        "# Charger les villes depuis GitHub\n",
        "url = \"https://github.com/serahtouati/TSP_Projet/raw/main/data/fr.csv\"\n",
        "cities = pd.read_csv(url)\n",
        "cities.head()\n"
      ],
      "metadata": {
        "colab": {
          "base_uri": "https://localhost:8080/",
          "height": 206
        },
        "id": "U33OZDc8c1g0",
        "outputId": "cf539004-128d-45b0-f45f-45b16c738f6c"
      },
      "execution_count": null,
      "outputs": [
        {
          "output_type": "execute_result",
          "data": {
            "text/plain": [
              "        city      lat     lng country iso2                  admin_name  \\\n",
              "0      Paris  48.8567  2.3522  France   FR               Île-de-France   \n",
              "1   Bordeaux  44.8400 -0.5800  France   FR          Nouvelle-Aquitaine   \n",
              "2  Marseille  43.2964  5.3700  France   FR  Provence-Alpes-Côte d’Azur   \n",
              "3       Lyon  45.7600  4.8400  France   FR        Auvergne-Rhône-Alpes   \n",
              "4   Toulouse  43.6045  1.4440  France   FR                   Occitanie   \n",
              "\n",
              "   capital  population  population_proper  \n",
              "0  primary    11060000            2148271  \n",
              "1    admin      994920             994920  \n",
              "2    admin      873076             873076  \n",
              "3    admin      522250             522250  \n",
              "4    admin      504078             504078  "
            ],
            "text/html": [
              "\n",
              "  <div id=\"df-a83a789f-5c14-47cc-a17b-d38110c86b92\" class=\"colab-df-container\">\n",
              "    <div>\n",
              "<style scoped>\n",
              "    .dataframe tbody tr th:only-of-type {\n",
              "        vertical-align: middle;\n",
              "    }\n",
              "\n",
              "    .dataframe tbody tr th {\n",
              "        vertical-align: top;\n",
              "    }\n",
              "\n",
              "    .dataframe thead th {\n",
              "        text-align: right;\n",
              "    }\n",
              "</style>\n",
              "<table border=\"1\" class=\"dataframe\">\n",
              "  <thead>\n",
              "    <tr style=\"text-align: right;\">\n",
              "      <th></th>\n",
              "      <th>city</th>\n",
              "      <th>lat</th>\n",
              "      <th>lng</th>\n",
              "      <th>country</th>\n",
              "      <th>iso2</th>\n",
              "      <th>admin_name</th>\n",
              "      <th>capital</th>\n",
              "      <th>population</th>\n",
              "      <th>population_proper</th>\n",
              "    </tr>\n",
              "  </thead>\n",
              "  <tbody>\n",
              "    <tr>\n",
              "      <th>0</th>\n",
              "      <td>Paris</td>\n",
              "      <td>48.8567</td>\n",
              "      <td>2.3522</td>\n",
              "      <td>France</td>\n",
              "      <td>FR</td>\n",
              "      <td>Île-de-France</td>\n",
              "      <td>primary</td>\n",
              "      <td>11060000</td>\n",
              "      <td>2148271</td>\n",
              "    </tr>\n",
              "    <tr>\n",
              "      <th>1</th>\n",
              "      <td>Bordeaux</td>\n",
              "      <td>44.8400</td>\n",
              "      <td>-0.5800</td>\n",
              "      <td>France</td>\n",
              "      <td>FR</td>\n",
              "      <td>Nouvelle-Aquitaine</td>\n",
              "      <td>admin</td>\n",
              "      <td>994920</td>\n",
              "      <td>994920</td>\n",
              "    </tr>\n",
              "    <tr>\n",
              "      <th>2</th>\n",
              "      <td>Marseille</td>\n",
              "      <td>43.2964</td>\n",
              "      <td>5.3700</td>\n",
              "      <td>France</td>\n",
              "      <td>FR</td>\n",
              "      <td>Provence-Alpes-Côte d’Azur</td>\n",
              "      <td>admin</td>\n",
              "      <td>873076</td>\n",
              "      <td>873076</td>\n",
              "    </tr>\n",
              "    <tr>\n",
              "      <th>3</th>\n",
              "      <td>Lyon</td>\n",
              "      <td>45.7600</td>\n",
              "      <td>4.8400</td>\n",
              "      <td>France</td>\n",
              "      <td>FR</td>\n",
              "      <td>Auvergne-Rhône-Alpes</td>\n",
              "      <td>admin</td>\n",
              "      <td>522250</td>\n",
              "      <td>522250</td>\n",
              "    </tr>\n",
              "    <tr>\n",
              "      <th>4</th>\n",
              "      <td>Toulouse</td>\n",
              "      <td>43.6045</td>\n",
              "      <td>1.4440</td>\n",
              "      <td>France</td>\n",
              "      <td>FR</td>\n",
              "      <td>Occitanie</td>\n",
              "      <td>admin</td>\n",
              "      <td>504078</td>\n",
              "      <td>504078</td>\n",
              "    </tr>\n",
              "  </tbody>\n",
              "</table>\n",
              "</div>\n",
              "    <div class=\"colab-df-buttons\">\n",
              "\n",
              "  <div class=\"colab-df-container\">\n",
              "    <button class=\"colab-df-convert\" onclick=\"convertToInteractive('df-a83a789f-5c14-47cc-a17b-d38110c86b92')\"\n",
              "            title=\"Convert this dataframe to an interactive table.\"\n",
              "            style=\"display:none;\">\n",
              "\n",
              "  <svg xmlns=\"http://www.w3.org/2000/svg\" height=\"24px\" viewBox=\"0 -960 960 960\">\n",
              "    <path d=\"M120-120v-720h720v720H120Zm60-500h600v-160H180v160Zm220 220h160v-160H400v160Zm0 220h160v-160H400v160ZM180-400h160v-160H180v160Zm440 0h160v-160H620v160ZM180-180h160v-160H180v160Zm440 0h160v-160H620v160Z\"/>\n",
              "  </svg>\n",
              "    </button>\n",
              "\n",
              "  <style>\n",
              "    .colab-df-container {\n",
              "      display:flex;\n",
              "      gap: 12px;\n",
              "    }\n",
              "\n",
              "    .colab-df-convert {\n",
              "      background-color: #E8F0FE;\n",
              "      border: none;\n",
              "      border-radius: 50%;\n",
              "      cursor: pointer;\n",
              "      display: none;\n",
              "      fill: #1967D2;\n",
              "      height: 32px;\n",
              "      padding: 0 0 0 0;\n",
              "      width: 32px;\n",
              "    }\n",
              "\n",
              "    .colab-df-convert:hover {\n",
              "      background-color: #E2EBFA;\n",
              "      box-shadow: 0px 1px 2px rgba(60, 64, 67, 0.3), 0px 1px 3px 1px rgba(60, 64, 67, 0.15);\n",
              "      fill: #174EA6;\n",
              "    }\n",
              "\n",
              "    .colab-df-buttons div {\n",
              "      margin-bottom: 4px;\n",
              "    }\n",
              "\n",
              "    [theme=dark] .colab-df-convert {\n",
              "      background-color: #3B4455;\n",
              "      fill: #D2E3FC;\n",
              "    }\n",
              "\n",
              "    [theme=dark] .colab-df-convert:hover {\n",
              "      background-color: #434B5C;\n",
              "      box-shadow: 0px 1px 3px 1px rgba(0, 0, 0, 0.15);\n",
              "      filter: drop-shadow(0px 1px 2px rgba(0, 0, 0, 0.3));\n",
              "      fill: #FFFFFF;\n",
              "    }\n",
              "  </style>\n",
              "\n",
              "    <script>\n",
              "      const buttonEl =\n",
              "        document.querySelector('#df-a83a789f-5c14-47cc-a17b-d38110c86b92 button.colab-df-convert');\n",
              "      buttonEl.style.display =\n",
              "        google.colab.kernel.accessAllowed ? 'block' : 'none';\n",
              "\n",
              "      async function convertToInteractive(key) {\n",
              "        const element = document.querySelector('#df-a83a789f-5c14-47cc-a17b-d38110c86b92');\n",
              "        const dataTable =\n",
              "          await google.colab.kernel.invokeFunction('convertToInteractive',\n",
              "                                                    [key], {});\n",
              "        if (!dataTable) return;\n",
              "\n",
              "        const docLinkHtml = 'Like what you see? Visit the ' +\n",
              "          '<a target=\"_blank\" href=https://colab.research.google.com/notebooks/data_table.ipynb>data table notebook</a>'\n",
              "          + ' to learn more about interactive tables.';\n",
              "        element.innerHTML = '';\n",
              "        dataTable['output_type'] = 'display_data';\n",
              "        await google.colab.output.renderOutput(dataTable, element);\n",
              "        const docLink = document.createElement('div');\n",
              "        docLink.innerHTML = docLinkHtml;\n",
              "        element.appendChild(docLink);\n",
              "      }\n",
              "    </script>\n",
              "  </div>\n",
              "\n",
              "\n",
              "    <div id=\"df-3d23760f-2a84-4541-8969-8f47420f1efc\">\n",
              "      <button class=\"colab-df-quickchart\" onclick=\"quickchart('df-3d23760f-2a84-4541-8969-8f47420f1efc')\"\n",
              "                title=\"Suggest charts\"\n",
              "                style=\"display:none;\">\n",
              "\n",
              "<svg xmlns=\"http://www.w3.org/2000/svg\" height=\"24px\"viewBox=\"0 0 24 24\"\n",
              "     width=\"24px\">\n",
              "    <g>\n",
              "        <path d=\"M19 3H5c-1.1 0-2 .9-2 2v14c0 1.1.9 2 2 2h14c1.1 0 2-.9 2-2V5c0-1.1-.9-2-2-2zM9 17H7v-7h2v7zm4 0h-2V7h2v10zm4 0h-2v-4h2v4z\"/>\n",
              "    </g>\n",
              "</svg>\n",
              "      </button>\n",
              "\n",
              "<style>\n",
              "  .colab-df-quickchart {\n",
              "      --bg-color: #E8F0FE;\n",
              "      --fill-color: #1967D2;\n",
              "      --hover-bg-color: #E2EBFA;\n",
              "      --hover-fill-color: #174EA6;\n",
              "      --disabled-fill-color: #AAA;\n",
              "      --disabled-bg-color: #DDD;\n",
              "  }\n",
              "\n",
              "  [theme=dark] .colab-df-quickchart {\n",
              "      --bg-color: #3B4455;\n",
              "      --fill-color: #D2E3FC;\n",
              "      --hover-bg-color: #434B5C;\n",
              "      --hover-fill-color: #FFFFFF;\n",
              "      --disabled-bg-color: #3B4455;\n",
              "      --disabled-fill-color: #666;\n",
              "  }\n",
              "\n",
              "  .colab-df-quickchart {\n",
              "    background-color: var(--bg-color);\n",
              "    border: none;\n",
              "    border-radius: 50%;\n",
              "    cursor: pointer;\n",
              "    display: none;\n",
              "    fill: var(--fill-color);\n",
              "    height: 32px;\n",
              "    padding: 0;\n",
              "    width: 32px;\n",
              "  }\n",
              "\n",
              "  .colab-df-quickchart:hover {\n",
              "    background-color: var(--hover-bg-color);\n",
              "    box-shadow: 0 1px 2px rgba(60, 64, 67, 0.3), 0 1px 3px 1px rgba(60, 64, 67, 0.15);\n",
              "    fill: var(--button-hover-fill-color);\n",
              "  }\n",
              "\n",
              "  .colab-df-quickchart-complete:disabled,\n",
              "  .colab-df-quickchart-complete:disabled:hover {\n",
              "    background-color: var(--disabled-bg-color);\n",
              "    fill: var(--disabled-fill-color);\n",
              "    box-shadow: none;\n",
              "  }\n",
              "\n",
              "  .colab-df-spinner {\n",
              "    border: 2px solid var(--fill-color);\n",
              "    border-color: transparent;\n",
              "    border-bottom-color: var(--fill-color);\n",
              "    animation:\n",
              "      spin 1s steps(1) infinite;\n",
              "  }\n",
              "\n",
              "  @keyframes spin {\n",
              "    0% {\n",
              "      border-color: transparent;\n",
              "      border-bottom-color: var(--fill-color);\n",
              "      border-left-color: var(--fill-color);\n",
              "    }\n",
              "    20% {\n",
              "      border-color: transparent;\n",
              "      border-left-color: var(--fill-color);\n",
              "      border-top-color: var(--fill-color);\n",
              "    }\n",
              "    30% {\n",
              "      border-color: transparent;\n",
              "      border-left-color: var(--fill-color);\n",
              "      border-top-color: var(--fill-color);\n",
              "      border-right-color: var(--fill-color);\n",
              "    }\n",
              "    40% {\n",
              "      border-color: transparent;\n",
              "      border-right-color: var(--fill-color);\n",
              "      border-top-color: var(--fill-color);\n",
              "    }\n",
              "    60% {\n",
              "      border-color: transparent;\n",
              "      border-right-color: var(--fill-color);\n",
              "    }\n",
              "    80% {\n",
              "      border-color: transparent;\n",
              "      border-right-color: var(--fill-color);\n",
              "      border-bottom-color: var(--fill-color);\n",
              "    }\n",
              "    90% {\n",
              "      border-color: transparent;\n",
              "      border-bottom-color: var(--fill-color);\n",
              "    }\n",
              "  }\n",
              "</style>\n",
              "\n",
              "      <script>\n",
              "        async function quickchart(key) {\n",
              "          const quickchartButtonEl =\n",
              "            document.querySelector('#' + key + ' button');\n",
              "          quickchartButtonEl.disabled = true;  // To prevent multiple clicks.\n",
              "          quickchartButtonEl.classList.add('colab-df-spinner');\n",
              "          try {\n",
              "            const charts = await google.colab.kernel.invokeFunction(\n",
              "                'suggestCharts', [key], {});\n",
              "          } catch (error) {\n",
              "            console.error('Error during call to suggestCharts:', error);\n",
              "          }\n",
              "          quickchartButtonEl.classList.remove('colab-df-spinner');\n",
              "          quickchartButtonEl.classList.add('colab-df-quickchart-complete');\n",
              "        }\n",
              "        (() => {\n",
              "          let quickchartButtonEl =\n",
              "            document.querySelector('#df-3d23760f-2a84-4541-8969-8f47420f1efc button');\n",
              "          quickchartButtonEl.style.display =\n",
              "            google.colab.kernel.accessAllowed ? 'block' : 'none';\n",
              "        })();\n",
              "      </script>\n",
              "    </div>\n",
              "\n",
              "    </div>\n",
              "  </div>\n"
            ],
            "application/vnd.google.colaboratory.intrinsic+json": {
              "type": "dataframe",
              "variable_name": "cities",
              "summary": "{\n  \"name\": \"cities\",\n  \"rows\": 627,\n  \"fields\": [\n    {\n      \"column\": \"city\",\n      \"properties\": {\n        \"dtype\": \"string\",\n        \"num_unique_values\": 626,\n        \"samples\": [\n          \"Bruay-sur-l\\u2019Escaut\",\n          \"Eybens\",\n          \"P\\u00e9rigueux\"\n        ],\n        \"semantic_type\": \"\",\n        \"description\": \"\"\n      }\n    },\n    {\n      \"column\": \"lat\",\n      \"properties\": {\n        \"dtype\": \"number\",\n        \"std\": 2.0298069114856245,\n        \"min\": 41.9267,\n        \"max\": 51.0413,\n        \"num_unique_values\": 583,\n        \"samples\": [\n          51.0194,\n          50.4425,\n          48.6238\n        ],\n        \"semantic_type\": \"\",\n        \"description\": \"\"\n      }\n    },\n    {\n      \"column\": \"lng\",\n      \"properties\": {\n        \"dtype\": \"number\",\n        \"std\": 2.109429230247832,\n        \"min\": -4.49,\n        \"max\": 9.4503,\n        \"num_unique_values\": 613,\n        \"samples\": [\n          1.9747,\n          2.4772,\n          2.2389\n        ],\n        \"semantic_type\": \"\",\n        \"description\": \"\"\n      }\n    },\n    {\n      \"column\": \"country\",\n      \"properties\": {\n        \"dtype\": \"category\",\n        \"num_unique_values\": 1,\n        \"samples\": [\n          \"France\"\n        ],\n        \"semantic_type\": \"\",\n        \"description\": \"\"\n      }\n    },\n    {\n      \"column\": \"iso2\",\n      \"properties\": {\n        \"dtype\": \"category\",\n        \"num_unique_values\": 1,\n        \"samples\": [\n          \"FR\"\n        ],\n        \"semantic_type\": \"\",\n        \"description\": \"\"\n      }\n    },\n    {\n      \"column\": \"admin_name\",\n      \"properties\": {\n        \"dtype\": \"category\",\n        \"num_unique_values\": 13,\n        \"samples\": [\n          \"Centre-Val de Loire\"\n        ],\n        \"semantic_type\": \"\",\n        \"description\": \"\"\n      }\n    },\n    {\n      \"column\": \"capital\",\n      \"properties\": {\n        \"dtype\": \"category\",\n        \"num_unique_values\": 3,\n        \"samples\": [\n          \"primary\"\n        ],\n        \"semantic_type\": \"\",\n        \"description\": \"\"\n      }\n    },\n    {\n      \"column\": \"population\",\n      \"properties\": {\n        \"dtype\": \"number\",\n        \"std\": 445752,\n        \"min\": 2615,\n        \"max\": 11060000,\n        \"num_unique_values\": 625,\n        \"samples\": [\n          11309\n        ],\n        \"semantic_type\": \"\",\n        \"description\": \"\"\n      }\n    },\n    {\n      \"column\": \"population_proper\",\n      \"properties\": {\n        \"dtype\": \"number\",\n        \"std\": 109591,\n        \"min\": 2615,\n        \"max\": 2148271,\n        \"num_unique_values\": 625,\n        \"samples\": [\n          11309\n        ],\n        \"semantic_type\": \"\",\n        \"description\": \"\"\n      }\n    }\n  ]\n}"
            }
          },
          "metadata": {},
          "execution_count": 9
        }
      ]
    },
    {
      "cell_type": "markdown",
      "source": [
        "##2. Création des listes de villes"
      ],
      "metadata": {
        "id": "6dELdOJ5eCzC"
      }
    },
    {
      "cell_type": "code",
      "source": [
        "def load_cities_from_csv(url, n=20):\n",
        "    # Charger le fichier CSV depuis le lien\n",
        "    cities_csv = pd.read_csv(url)\n",
        "\n",
        "    # Extraire les colonnes nécessaires (nom, latitude, longitude)\n",
        "    cities = cities_csv[['city', 'lat', 'lng']].head(n).values.tolist()\n",
        "\n",
        "    # Transformer en une liste de tuples (nom, lat, lng)\n",
        "    cities = [(name, lat, lng) for name, lat, lng in cities]\n",
        "\n",
        "    return cities\n",
        "\n",
        "# Utilisation\n",
        "cities_list = load_cities_from_csv(url, n=20)\n",
        "print(cities_list)\n"
      ],
      "metadata": {
        "colab": {
          "base_uri": "https://localhost:8080/"
        },
        "id": "5zVN6SWmemfN",
        "outputId": "9b9ba042-6827-4ec8-fe7d-d9afd944cf02"
      },
      "execution_count": null,
      "outputs": [
        {
          "output_type": "stream",
          "name": "stdout",
          "text": [
            "[('Paris', 48.8567, 2.3522), ('Bordeaux', 44.84, -0.58), ('Marseille', 43.2964, 5.37), ('Lyon', 45.76, 4.84), ('Toulouse', 43.6045, 1.444), ('Nice', 43.7034, 7.2663), ('Nantes', 47.2181, -1.5528), ('Montpellier', 43.6119, 3.8772), ('Strasbourg', 48.5833, 7.7458), ('Lille', 50.6278, 3.0583), ('Rennes', 48.1147, -1.6794), ('Toulon', 43.1258, 5.9306), ('Reims', 49.2628, 4.0347), ('Saint-Étienne', 45.4347, 4.3903), ('Le Havre', 49.49, 0.1), ('Dijon', 47.3167, 5.0167), ('Grenoble', 45.1715, 5.7224), ('Angers', 47.4736, -0.5542), ('Villeurbanne', 45.7667, 4.8803), ('Nîmes', 43.8383, 4.3597)]\n"
          ]
        }
      ]
    },
    {
      "cell_type": "markdown",
      "source": [
        "##3. Calcul des distances entre les villes"
      ],
      "metadata": {
        "id": "4Ro76uXlZqp4"
      }
    },
    {
      "cell_type": "code",
      "source": [
        "import math\n",
        "\n",
        "def calculate_distance_matrix(cities):\n",
        "    n = len(cities)\n",
        "    matrix = [[0.0] * n for _ in range(n)]\n",
        "\n",
        "    for i in range(n):\n",
        "        for j in range(n):\n",
        "            if i != j:\n",
        "                # Coordonnées des villes\n",
        "                lat1, lon1 = cities[i][1], cities[i][2]\n",
        "                lat2, lon2 = cities[j][1], cities[j][2]\n",
        "\n",
        "                # Calcul de la distance avec la formule de Haversine\n",
        "                rayon = 6371  # Rayon de la Terre en km\n",
        "                dlat = math.radians(lat2 - lat1)\n",
        "                dlon = math.radians(lon2 - lon1)\n",
        "                a = math.sin(dlat / 2) ** 2 + math.cos(math.radians(lat1)) * math.cos(math.radians(lat2)) * math.sin(dlon / 2) ** 2\n",
        "                c = 2 * math.atan2(math.sqrt(a), math.sqrt(1 - a))\n",
        "                distance = rayon * c\n",
        "                matrix[i][j] = distance\n",
        "\n",
        "    return matrix\n",
        "\n",
        "# Utilisation\n",
        "distance_matrix = calculate_distance_matrix(cities_list)\n",
        "\n",
        "# Afficher un extrait de la matrice\n",
        "import numpy as np\n",
        "np.set_printoptions(precision=2)\n",
        "np.array(distance_matrix)[:5, :5]  # Les 5 premières lignes et colonnes\n"
      ],
      "metadata": {
        "colab": {
          "base_uri": "https://localhost:8080/"
        },
        "id": "9mI97ChnZxxb",
        "outputId": "ceba10be-8b56-4311-d7c9-c01c8b72ab7a"
      },
      "execution_count": null,
      "outputs": [
        {
          "output_type": "execute_result",
          "data": {
            "text/plain": [
              "array([[  0.  , 499.11, 660.5 , 392.06, 588.17],\n",
              "       [499.11,   0.  , 505.26, 435.99, 211.85],\n",
              "       [660.5 , 505.26,   0.  , 277.14, 318.74],\n",
              "       [392.06, 435.99, 277.14,   0.  , 359.85],\n",
              "       [588.17, 211.85, 318.74, 359.85,   0.  ]])"
            ]
          },
          "metadata": {},
          "execution_count": 11
        }
      ]
    },
    {
      "cell_type": "markdown",
      "source": [
        "# II. Heuristiques"
      ],
      "metadata": {
        "id": "lQsa6XinBbxH"
      }
    },
    {
      "cell_type": "markdown",
      "source": [
        "## 1. a. Heuristique du Plus Proche Voisin"
      ],
      "metadata": {
        "id": "J3tdI3yjIg_H"
      }
    },
    {
      "cell_type": "code",
      "source": [
        "def nearest_neighbor(distance_matrix):\n",
        "\n",
        "    n = len(distance_matrix)\n",
        "    visited = [False] * n\n",
        "    path = [0]\n",
        "    visited[0] = True\n",
        "    current_city = 0\n",
        "\n",
        "    for _ in range(n - 1):\n",
        "        nearest = None\n",
        "        min_dist = float('inf')\n",
        "        for city in range(n):\n",
        "            if not visited[city] and distance_matrix[current_city][city] < min_dist:\n",
        "                nearest = city\n",
        "                min_dist = distance_matrix[current_city][city]\n",
        "        path.append(nearest)\n",
        "        visited[nearest] = True\n",
        "        current_city = nearest\n",
        "\n",
        "    path.append(0)\n",
        "    return path\n",
        "\n",
        "# Test\n",
        "path_nn = nearest_neighbor(distance_matrix)\n",
        "print(\"Chemin trouvé :\", path_nn)\n",
        "\n",
        "# Calcul de la distance totale\n",
        "def calculate_total_distance(path, distance_matrix):\n",
        "    return sum(\n",
        "        distance_matrix[path[i]][path[i + 1]] for i in range(len(path) - 1)\n",
        "    )\n",
        "\n",
        "total_distance_nn = calculate_total_distance(path_nn, distance_matrix)\n",
        "print(f\"Distance totale parcourue (Nearest Neighbor) : {total_distance_nn:.2f} km\")\n"
      ],
      "metadata": {
        "colab": {
          "base_uri": "https://localhost:8080/"
        },
        "id": "mJMFBl8NIqiX",
        "outputId": "9ae7f8e7-d56a-4e1f-a234-28d90df1bd5c"
      },
      "execution_count": null,
      "outputs": [
        {
          "output_type": "stream",
          "name": "stdout",
          "text": [
            "Chemin trouvé : [0, 12, 9, 14, 10, 6, 17, 1, 4, 7, 19, 2, 11, 5, 16, 18, 3, 13, 15, 8, 0]\n",
            "Distance totale parcourue (Nearest Neighbor) : 3157.88 km\n"
          ]
        }
      ]
    },
    {
      "cell_type": "markdown",
      "source": [
        "## b. Visualisation de l'Heuristique du Plus Proche Voisin"
      ],
      "metadata": {
        "id": "7h2WgBu-B5Vv"
      }
    },
    {
      "cell_type": "code",
      "source": [
        "import matplotlib.pyplot as plt\n",
        "\n",
        "def plot_path(cities, path, title=\"Chemin trouvé par l'heuristique du Plus Proche Voisin\"):\n",
        "    plt.figure(figsize=(10, 6))\n",
        "\n",
        "    # Extraire les coordonnées des villes dans l'ordre du chemin\n",
        "    latitudes = [cities[i][1] for i in path]\n",
        "    longitudes = [cities[i][2] for i in path]\n",
        "    names = [cities[i][0] for i in path]\n",
        "\n",
        "    # Tracer les lignes reliant les villes dans l’ordre du chemin\n",
        "    plt.plot(longitudes, latitudes, marker='o', linestyle='-', color='blue')\n",
        "\n",
        "    # Afficher les noms des villes\n",
        "    for i, name in enumerate(names):\n",
        "        plt.text(longitudes[i], latitudes[i], name, fontsize=9, ha='right', va='bottom')\n",
        "\n",
        "    plt.title(title)\n",
        "    plt.xlabel(\"Longitude\")\n",
        "    plt.ylabel(\"Latitude\")\n",
        "    plt.grid(True)\n",
        "    plt.tight_layout()\n",
        "    plt.show()\n",
        "\n",
        "plot_path(cities_list, path_nn)"
      ],
      "metadata": {
        "colab": {
          "base_uri": "https://localhost:8080/",
          "height": 607
        },
        "id": "Gjs17ljoDd03",
        "outputId": "65b4b34e-251b-4ff4-9c4f-1af08a76fcc2"
      },
      "execution_count": null,
      "outputs": [
        {
          "output_type": "display_data",
          "data": {
            "text/plain": [
              "<Figure size 1000x600 with 1 Axes>"
            ],
            "image/png": "[encoded data removed]"
          },
          "metadata": {}
        }
      ]
    },
    {
      "cell_type": "markdown",
      "source": [
        "## 2.a. Heuristique 2-opt\n"
      ],
      "metadata": {
        "id": "7yNybEhYpe7z"
      }
    },
    {
      "cell_type": "code",
      "source": [
        "def two_opt(path, distance_matrix):\n",
        "    n = len(path)\n",
        "    improvement = True\n",
        "\n",
        "    while improvement:\n",
        "        improvement = False\n",
        "        for i in range(1, n - 2):\n",
        "            for j in range(i + 1, n - 1):\n",
        "                a, b = path[i - 1], path[i]\n",
        "                c, d = path[j], path[j + 1]\n",
        "                dist_before = distance_matrix[a][b] + distance_matrix[c][d]\n",
        "                dist_after = distance_matrix[a][c] + distance_matrix[b][d]\n",
        "\n",
        "                if dist_after < dist_before:\n",
        "                    path[i:j + 1] = reversed(path[i:j + 1])\n",
        "                    improvement = True\n",
        "\n",
        "    return path\n",
        "\n",
        "# Test de l'heuristique 2-opt\n",
        "path_2opt = two_opt(path_nn.copy(), distance_matrix)\n",
        "print(\"Chemin trouvé après 2-opt :\", path_2opt)\n",
        "\n",
        "# Calcul de la distance totale\n",
        "total_distance_2opt = calculate_total_distance(path_2opt, distance_matrix)\n",
        "print(f\"Distance totale parcourue (2-opt) : {total_distance_2opt:.2f} km\")\n"
      ],
      "metadata": {
        "colab": {
          "base_uri": "https://localhost:8080/"
        },
        "id": "KYvYCcy_sjTs",
        "outputId": "f0befe86-efa3-4b67-b1f0-f433725659a3"
      },
      "execution_count": null,
      "outputs": [
        {
          "output_type": "stream",
          "name": "stdout",
          "text": [
            "Chemin trouvé après 2-opt : [0, 14, 10, 17, 6, 1, 4, 7, 19, 2, 11, 5, 16, 13, 3, 18, 15, 8, 12, 9, 0]\n",
            "Distance totale parcourue (2-opt) : 3012.39 km\n"
          ]
        }
      ]
    }
  ]
}